{
 "cells": [
  {
   "cell_type": "code",
   "execution_count": 20,
   "id": "fa92e190-65d8-4f9d-9f08-20e9d5951e06",
   "metadata": {},
   "outputs": [
    {
     "name": "stdout",
     "output_type": "stream",
     "text": [
      "Adding new account information in database....\n",
      "Account number is: 15674 and balance is: 2500 \n",
      "\n",
      "Adding new account information in database....\n",
      "Account number is: 49856 and balance is: 2350.1\n",
      "Rs.500 was debited\n",
      "Your balance is: 2000\n",
      "Rs.1000 was credited\n",
      "Your balance is: 3000\n"
     ]
    }
   ],
   "source": [
    "# Create Account class with 2 attributes - balance & account no.\n",
    "class Account:\n",
    "    def __init__(self,account_no,balance):\n",
    "        self.account_no = account_no\n",
    "        self.balance = balance\n",
    "        print(\"Adding new account information in database....\")\n",
    "    def debit(self,amount):\n",
    "        self.balance -= amount\n",
    "        print(f\"Rs.{amount} was debited\")\n",
    "        print(f\"Your balance is: {self.get_bal()}\")\n",
    "        \n",
    "    def credit(self,amount):\n",
    "        self.balance += amount\n",
    "        print(f\"Rs.{amount} was credited\")\n",
    "        print(f\"Your balance is: {self.get_bal()}\")\n",
    "\n",
    "    def get_bal(self):\n",
    "        return self.balance\n",
    "        \n",
    "a1 = Account(15674,2500)\n",
    "print(f\"Account number is: {a1.account_no} and balance is: {a1.balance} \\n\")\n",
    "\n",
    "a2 = Account(49856,2350.10)\n",
    "print(f\"Account number is: {a2.account_no} and balance is: {a2.balance}\")\n",
    "\n",
    "a1.debit(500)\n",
    "a1.credit(1000)"
   ]
  },
  {
   "cell_type": "code",
   "execution_count": 16,
   "id": "c90f7eaf-1bce-4b31-97ed-0b6579540302",
   "metadata": {},
   "outputs": [
    {
     "name": "stdout",
     "output_type": "stream",
     "text": [
      "Student Name:Rohan\n",
      "Physics Marks:98\n",
      "Maths Marks:67\n",
      "Chemistry Marks:88\n",
      "Average of marks is 84.33333333333333\n"
     ]
    }
   ],
   "source": [
    "# Create student class that takes name & marks of 3 subjects as arguments in constructor.Then create a method to print the average.\n",
    "class Student:\n",
    "    def __init__(self,name,marks):\n",
    "        self.name = name\n",
    "        self.marks = marks\n",
    "    def average(self):\n",
    "            sum = 0\n",
    "            for val in self.marks:\n",
    "                sum += val\n",
    "            print(f\"Average of marks is {sum/3}\")\n",
    "s1 = Student(\"Rohan\",[98,67,88])\n",
    "print(f\"Student Name:{s1.name}\\nPhysics Marks:{s1.marks[0]}\\nMaths Marks:{s1.marks[1]}\\nChemistry Marks:{s1.marks[2]}\")\n",
    "s1.average()"
   ]
  },
  {
   "cell_type": "code",
   "execution_count": 27,
   "id": "add0e39e-f0ba-45f4-b269-2496db640d03",
   "metadata": {},
   "outputs": [
    {
     "name": "stdout",
     "output_type": "stream",
     "text": [
      "Area of the circle with radius 5 is 78.5\n",
      "Perimeter of the circle with radius 5 is 31.400000000000002\n"
     ]
    }
   ],
   "source": [
    "# Define a Circle class to create a circle with radius r using constructor.Define the area method of the class which calculates the area of the circle.Define the perimeter method of the class which allows you to calculate the perimeter of the circle.\n",
    "class Circle:\n",
    "    def __init__(self,r):\n",
    "        self.r = r\n",
    "    def area(self):\n",
    "        a = (3.14*self.r**2)\n",
    "        print(f\"Area of the circle with radius {self.r} is {a}\")\n",
    "    def perimeter(self):\n",
    "        p = 2*3.14*self.r\n",
    "        print(f\"Perimeter of the circle with radius {self.r} is {p}\")\n",
    "c = Circle(5)\n",
    "c.area()\n",
    "c.perimeter()"
   ]
  },
  {
   "cell_type": "code",
   "execution_count": 34,
   "id": "f6216ab5-63d9-41bb-a824-802a6a60b2f9",
   "metadata": {},
   "outputs": [
    {
     "name": "stdout",
     "output_type": "stream",
     "text": [
      "Employee Role: Software Engineer\n",
      "Employee Department: IT\n",
      "Employee Salary: 100000\n",
      "Software Engineer\n",
      "Employee Role: Engineer\n",
      "Employee Department: IT\n",
      "Employee Salary: 200000\n"
     ]
    }
   ],
   "source": [
    "# Define a Employee class with attributes role, department and salary.This class also has a showDetails() methods.Create an engineer class that inherit properties from employee class and has attributes name & age.\n",
    "class Employee:\n",
    "    def __init__(self,role,department,salary):\n",
    "        self.role = role\n",
    "        self.department = department\n",
    "        self.salary = salary\n",
    "    def showDetails(self):\n",
    "        print(f\"Employee Role: {self.role}\\nEmployee Department: {self.department}\\nEmployee Salary: {self.salary}\")\n",
    "class Engineer(Employee):\n",
    "    def __init__(self,name,age):\n",
    "        self.name = name\n",
    "        self.age = age\n",
    "        super().__init__(\"Engineer\",\"IT\",200000)\n",
    "emp = Employee(\"Software Engineer\",\"IT\",100000)\n",
    "emp.showDetails()\n",
    "print(emp.role)\n",
    "eng = Engineer(\"Rahul\",33)\n",
    "eng.showDetails()"
   ]
  },
  {
   "cell_type": "code",
   "execution_count": 37,
   "id": "5c072233-7f57-47e9-ac88-e39cb22af5f2",
   "metadata": {},
   "outputs": [
    {
     "name": "stdout",
     "output_type": "stream",
     "text": [
      "False\n",
      "True\n"
     ]
    }
   ],
   "source": [
    "# Create a class order which stores items and its price. Use dunder function __gt__ to convey: order1>order2 if price of order1 > price of order2\n",
    "class Order:\n",
    "    def __init__(self,item,price):\n",
    "        self.item = item\n",
    "        self.price = price\n",
    "    def __gt__(self,order2):\n",
    "        return self.price > order2.price\n",
    "order1 = Order(\"Apple\",20)\n",
    "order2 = Order(\"Mango\",30)\n",
    "print(order1>order2)\n",
    "print(order2>order1)"
   ]
  }
 ],
 "metadata": {
  "kernelspec": {
   "display_name": "Python [conda env:base] *",
   "language": "python",
   "name": "conda-base-py"
  },
  "language_info": {
   "codemirror_mode": {
    "name": "ipython",
    "version": 3
   },
   "file_extension": ".py",
   "mimetype": "text/x-python",
   "name": "python",
   "nbconvert_exporter": "python",
   "pygments_lexer": "ipython3",
   "version": "3.13.5"
  }
 },
 "nbformat": 4,
 "nbformat_minor": 5
}
