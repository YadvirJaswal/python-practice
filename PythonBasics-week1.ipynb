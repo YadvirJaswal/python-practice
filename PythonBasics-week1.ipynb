{
 "cells": [
  {
   "cell_type": "code",
   "execution_count": 1,
   "id": "dfecb609-1f26-41bd-b599-345d39fec091",
   "metadata": {},
   "outputs": [
    {
     "name": "stdout",
     "output_type": "stream",
     "text": [
      "Hello world\n"
     ]
    }
   ],
   "source": [
    "print (\"Hello world\")"
   ]
  },
  {
   "cell_type": "code",
   "execution_count": 3,
   "id": "1492a3d3-962a-4912-a676-04097e2cbd81",
   "metadata": {},
   "outputs": [
    {
     "name": "stdout",
     "output_type": "stream",
     "text": [
      "25\n",
      "<class 'int'>\n"
     ]
    }
   ],
   "source": [
    "a = 12\n",
    "b = 13\n",
    "print(a+b)\n",
    "print(type(a))"
   ]
  },
  {
   "cell_type": "code",
   "execution_count": 9,
   "id": "be448cc6-a2ec-4eab-b1e9-cda15d0bb517",
   "metadata": {},
   "outputs": [
    {
     "name": "stdin",
     "output_type": "stream",
     "text": [
      "Enter fisrt number:  4\n",
      "Enter fisrt number:  4\n"
     ]
    },
    {
     "name": "stdout",
     "output_type": "stream",
     "text": [
      "Sum is : 8\n"
     ]
    }
   ],
   "source": [
    "# Write a Program to input 2 numbers & print their sum.\n",
    "a = int(input(\"Enter fisrt number: \"))\n",
    "b = int(input(\"Enter fisrt number: \"))\n",
    "print(\"Sum is :\", a+b)"
   ]
  },
  {
   "cell_type": "code",
   "execution_count": 8,
   "id": "eec615a9-9248-4fd3-a2fd-91be05a63c29",
   "metadata": {},
   "outputs": [
    {
     "name": "stdin",
     "output_type": "stream",
     "text": [
      "Enter the side of the square:  4\n"
     ]
    },
    {
     "name": "stdout",
     "output_type": "stream",
     "text": [
      "Area of the square is:  16\n"
     ]
    }
   ],
   "source": [
    "#WAP to input side of a square & print its area.\n",
    "a = int(input(\"Enter the side of the square: \"))\n",
    "area = a*a\n",
    "print(\"Area of the square is: \",area)"
   ]
  },
  {
   "cell_type": "code",
   "execution_count": 10,
   "id": "3c2dfee0-d87e-42ce-b823-a3e42c1d0db1",
   "metadata": {},
   "outputs": [
    {
     "name": "stdin",
     "output_type": "stream",
     "text": [
      "Enter first floating point number:  2.2\n",
      "Enter second floating point number:  3.2\n"
     ]
    },
    {
     "name": "stdout",
     "output_type": "stream",
     "text": [
      "Average is :  2.7\n"
     ]
    }
   ],
   "source": [
    "# WAP to input 2 floating point numbers & print their average.\n",
    "a = float(input(\"Enter first floating point number: \"))\n",
    "b = float(input(\"Enter second floating point number: \"))\n",
    "average = (a+b)/2\n",
    "print(\"Average is : \",average)"
   ]
  },
  {
   "cell_type": "code",
   "execution_count": 13,
   "id": "e1d9a19b-843f-43f5-8d7c-98b8fd49c4c4",
   "metadata": {},
   "outputs": [
    {
     "name": "stdin",
     "output_type": "stream",
     "text": [
      "Enter fisrt number:  2\n",
      "Enter fisrt number:  2\n"
     ]
    },
    {
     "name": "stdout",
     "output_type": "stream",
     "text": [
      "True\n"
     ]
    }
   ],
   "source": [
    "#WAP to input 2 int numbers, a and b. Print True if a is greater than or equal to b. If not print False\n",
    "a = int(input(\"Enter fisrt number: \"))\n",
    "b = int(input(\"Enter fisrt number: \"))\n",
    "if(a>b or a==b):\n",
    "    print(\"True\")\n",
    "else:\n",
    "    print (\"False\")\n"
   ]
  },
  {
   "cell_type": "code",
   "execution_count": 6,
   "id": "8b30b7a9-a547-4558-9cfe-46cec052205d",
   "metadata": {},
   "outputs": [
    {
     "name": "stdout",
     "output_type": "stream",
     "text": [
      "Hi, This is the Basic calculator\n",
      "Please select which of the following operation you want me to perform-\n",
      "\n",
      "1.Add\n",
      "2.Subtract\n",
      "3.Multiply\n",
      "4.Divide\n",
      "5>Exit\n",
      "\n"
     ]
    },
    {
     "name": "stdin",
     "output_type": "stream",
     "text": [
      "Enter the operation you want to perform: 1,2,3,4,5:  1\n",
      "Enter first number:  2\n",
      "Enter second number:  2\n"
     ]
    },
    {
     "name": "stdout",
     "output_type": "stream",
     "text": [
      "Addition of 2 + 2 is 4\n",
      "Please select which of the following operation you want me to perform-\n",
      "\n",
      "1.Add\n",
      "2.Subtract\n",
      "3.Multiply\n",
      "4.Divide\n",
      "5>Exit\n",
      "\n"
     ]
    },
    {
     "name": "stdin",
     "output_type": "stream",
     "text": [
      "Enter the operation you want to perform: 1,2,3,4,5:  2\n",
      "Enter first number:  3\n",
      "Enter second number:  3\n"
     ]
    },
    {
     "name": "stdout",
     "output_type": "stream",
     "text": [
      "Subtraction of 3 - 3 is 0\n",
      "Please select which of the following operation you want me to perform-\n",
      "\n",
      "1.Add\n",
      "2.Subtract\n",
      "3.Multiply\n",
      "4.Divide\n",
      "5>Exit\n",
      "\n"
     ]
    },
    {
     "name": "stdin",
     "output_type": "stream",
     "text": [
      "Enter the operation you want to perform: 1,2,3,4,5:  3\n",
      "Enter first number:  4\n",
      "Enter second number:  3\n"
     ]
    },
    {
     "name": "stdout",
     "output_type": "stream",
     "text": [
      "Multiplication of 4 * 3 is 12\n",
      "Please select which of the following operation you want me to perform-\n",
      "\n",
      "1.Add\n",
      "2.Subtract\n",
      "3.Multiply\n",
      "4.Divide\n",
      "5>Exit\n",
      "\n"
     ]
    },
    {
     "name": "stdin",
     "output_type": "stream",
     "text": [
      "Enter the operation you want to perform: 1,2,3,4,5:  4\n",
      "Enter first number:  4\n",
      "Enter second number:  4\n"
     ]
    },
    {
     "name": "stdout",
     "output_type": "stream",
     "text": [
      "Division of 4 / 4 is 1.0\n",
      "Please select which of the following operation you want me to perform-\n",
      "\n",
      "1.Add\n",
      "2.Subtract\n",
      "3.Multiply\n",
      "4.Divide\n",
      "5>Exit\n",
      "\n"
     ]
    },
    {
     "name": "stdin",
     "output_type": "stream",
     "text": [
      "Enter the operation you want to perform: 1,2,3,4,5:  8\n"
     ]
    },
    {
     "name": "stdout",
     "output_type": "stream",
     "text": [
      "Enter the valid input\n",
      "Please select which of the following operation you want me to perform-\n",
      "\n",
      "1.Add\n",
      "2.Subtract\n",
      "3.Multiply\n",
      "4.Divide\n",
      "5>Exit\n",
      "\n"
     ]
    },
    {
     "name": "stdin",
     "output_type": "stream",
     "text": [
      "Enter the operation you want to perform: 1,2,3,4,5:  5\n"
     ]
    },
    {
     "name": "stdout",
     "output_type": "stream",
     "text": [
      "Thankyou for using the calculator....\n"
     ]
    }
   ],
   "source": [
    "# Practice: Mini Calculator\n",
    "# Functions to perform operations\n",
    "def add(num_1,num_2):\n",
    "    return num_1+num_2\n",
    "def subtract(num_1,num_2):\n",
    "    return num_1-num_2\n",
    "def multiply(num_1,num_2):\n",
    "    return num_1*num_2\n",
    "def divide(num_1,num_2):\n",
    "    return num_1/num_2  \n",
    "print(\"Hi, This is the Basic calculator\")\n",
    "while True:\n",
    "    print(\"Please select which of the following operation you want me to perform-\\n\\n\" \\\n",
    "          \"1.Add\\n\"\\\n",
    "         \"2.Subtract\\n\"\\\n",
    "         \"3.Multiply\\n\"\\\n",
    "         \"4.Divide\\n\"\\\n",
    "         \"5>Exit\\n\")\n",
    "    \n",
    "    operation = int(input(\"Enter the operation you want to perform: 1,2,3,4,5: \"))\n",
    "    if operation == 1:\n",
    "                     num_1 = int(input(\"Enter first number: \"))\n",
    "                     num_2 = int(input(\"Enter second number: \"))\n",
    "                     print(\"Addition of {} + {} is\".format(num_1,num_2),add(num_1,num_2))\n",
    "    elif operation == 2:\n",
    "                     num_1 = int(input(\"Enter first number: \"))\n",
    "                     num_2 = int(input(\"Enter second number: \"))\n",
    "                     print(\"Subtraction of {} - {} is\".format(num_1,num_2),subtract(num_1,num_2))\n",
    "    elif operation == 3:\n",
    "                     num_1 = int(input(\"Enter first number: \"))\n",
    "                     num_2 = int(input(\"Enter second number: \"))\n",
    "                     print(\"Multiplication of {} * {} is\".format(num_1,num_2),multiply(num_1,num_2))\n",
    "    elif operation == 4:\n",
    "                     num_1 = int(input(\"Enter first number: \"))\n",
    "                     num_2 = int(input(\"Enter second number: \"))\n",
    "                     print(\"Division of {} / {} is\".format(num_1,num_2),divide(num_1,num_2))\n",
    "    elif operation == 5:\n",
    "                     print(\"Thankyou for using the calculator....\")\n",
    "                     break\n",
    "    else :\n",
    "                print(\"Enter the valid input\")\n",
    "\n",
    "\n",
    "        \n",
    "            \n",
    "    "
   ]
  },
  {
   "cell_type": "code",
   "execution_count": 8,
   "id": "9f0a950e-b5b9-4266-97a1-8ccc31806212",
   "metadata": {},
   "outputs": [
    {
     "name": "stdin",
     "output_type": "stream",
     "text": [
      "Enter a year:  2024\n"
     ]
    },
    {
     "name": "stdout",
     "output_type": "stream",
     "text": [
      "Its a leap year\n"
     ]
    }
   ],
   "source": [
    "# Practice : leap year checker\n",
    "year = int(input(\"Enter a year: \"))\n",
    "if (year % 400 == 0) or (year % 100 != 0 and year % 4 == 0):\n",
    "    print(\"Its a leap year\")\n",
    "else:\n",
    "    print(\"Its not a leap year\")"
   ]
  },
  {
   "cell_type": "code",
   "execution_count": 3,
   "id": "0c2919d9-e1f8-4992-b245-45ebd6fc80f5",
   "metadata": {},
   "outputs": [
    {
     "name": "stdin",
     "output_type": "stream",
     "text": [
      "Enter anything:  2345\n"
     ]
    },
    {
     "name": "stdout",
     "output_type": "stream",
     "text": [
      "4\n"
     ]
    }
   ],
   "source": [
    "# Take a string from the user and print its length using len().\n",
    "userInput = input(\"Enter anything: \")\n",
    "print(len(userInput))"
   ]
  },
  {
   "cell_type": "code",
   "execution_count": 6,
   "id": "1ca0e62c-bf1d-4018-a7af-a9d6239b4041",
   "metadata": {},
   "outputs": [
    {
     "name": "stdin",
     "output_type": "stream",
     "text": [
      "Enter your age:  18\n"
     ]
    },
    {
     "name": "stdout",
     "output_type": "stream",
     "text": [
      "You are eligible to vote.\n"
     ]
    }
   ],
   "source": [
    "# Write a program that checks if a person is eligible to vote (age >= 18).\n",
    "age = int(input(\"Enter your age: \"))\n",
    "if age >= 18:\n",
    "    print(\"You are eligible to vote.\")\n",
    "else:\n",
    "    print(\"You are not eligible to vote.\")"
   ]
  },
  {
   "cell_type": "code",
   "execution_count": 9,
   "id": "6a49589d-e7ea-4b59-afa2-a8122d074120",
   "metadata": {},
   "outputs": [
    {
     "name": "stdin",
     "output_type": "stream",
     "text": [
      "Enter any number:  16\n"
     ]
    },
    {
     "name": "stdout",
     "output_type": "stream",
     "text": [
      "It is an even number.\n"
     ]
    }
   ],
   "source": [
    "# Write a program that checks whether a number is even or odd.\n",
    "num = int(input(\"Enter any number: \"))\n",
    "if num%2 == 0:\n",
    "    print(\"It is an even number.\")\n",
    "else:\n",
    "    print(\"It is a odd number.\")"
   ]
  },
  {
   "cell_type": "code",
   "execution_count": 12,
   "id": "8dd295e3-0a2b-443a-bfca-bb1c54a129ca",
   "metadata": {},
   "outputs": [
    {
     "name": "stdin",
     "output_type": "stream",
     "text": [
      "Enter any number:  30\n"
     ]
    },
    {
     "name": "stdout",
     "output_type": "stream",
     "text": [
      "It’s divisible by both 3 and 5.\n"
     ]
    }
   ],
   "source": [
    "# Write a program that takes a number and tells if it’s divisible by both 3 and 5.\n",
    "num = int(input(\"Enter any number: \"))\n",
    "if num%3 == 0 and num%5 == 0:\n",
    "    print(\"It’s divisible by both 3 and 5.\")\n",
    "else:\n",
    "    print(\"It’s not divisible by both 3 and 5.\")"
   ]
  },
  {
   "cell_type": "code",
   "execution_count": 15,
   "id": "f201724f-3db4-4c44-a038-64326adde60a",
   "metadata": {},
   "outputs": [
    {
     "name": "stdin",
     "output_type": "stream",
     "text": [
      "Enter any number:  0\n"
     ]
    },
    {
     "name": "stdout",
     "output_type": "stream",
     "text": [
      "Given number is zero.\n"
     ]
    }
   ],
   "source": [
    "# Write a program that checks if a number is positive, negative, or zero.\n",
    "num = int(input(\"Enter any number: \"))\n",
    "if num>0:\n",
    "    print(\"Given number is positive.\")\n",
    "elif num<0:\n",
    "    print(\"Given number is negative.\")\n",
    "else:\n",
    "    print(\"Given number is zero.\")"
   ]
  },
  {
   "cell_type": "code",
   "execution_count": 17,
   "id": "cdddba0a-2d2b-4b00-93d3-d8447c012159",
   "metadata": {},
   "outputs": [
    {
     "name": "stdin",
     "output_type": "stream",
     "text": [
      "Enter the Principle amount:  1000\n",
      "Enter the Rate of Interest:  5\n",
      "Enter the Time (in years):  2\n"
     ]
    },
    {
     "name": "stdout",
     "output_type": "stream",
     "text": [
      "The Simple Interest is:  100.0\n"
     ]
    }
   ],
   "source": [
    "# Write a program to calculate simple interest.\n",
    "P = float(input(\"Enter the Principle amount: \"))\n",
    "R = float(input(\"Enter the Rate of Interest: \"))\n",
    "T = float(input(\"Enter the Time (in years): \"))\n",
    "simpleInterest = (P*R*T)/100\n",
    "print(\"The Simple Interest is: \",simpleInterest)"
   ]
  },
  {
   "cell_type": "code",
   "execution_count": null,
   "id": "1bbd8b86-a5a0-4e7f-ab60-ec4a8bf48806",
   "metadata": {},
   "outputs": [],
   "source": []
  }
 ],
 "metadata": {
  "kernelspec": {
   "display_name": "Python [conda env:base] *",
   "language": "python",
   "name": "conda-base-py"
  },
  "language_info": {
   "codemirror_mode": {
    "name": "ipython",
    "version": 3
   },
   "file_extension": ".py",
   "mimetype": "text/x-python",
   "name": "python",
   "nbconvert_exporter": "python",
   "pygments_lexer": "ipython3",
   "version": "3.13.5"
  }
 },
 "nbformat": 4,
 "nbformat_minor": 5
}
