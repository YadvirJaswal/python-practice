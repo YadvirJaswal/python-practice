{
 "cells": [
  {
   "cell_type": "code",
   "execution_count": 1,
   "id": "67d3f7c0-d623-40d2-91cf-660fbb879d27",
   "metadata": {},
   "outputs": [
    {
     "name": "stdout",
     "output_type": "stream",
     "text": [
      "1\n",
      "2\n",
      "3\n",
      "4\n",
      "5\n",
      "6\n",
      "7\n",
      "8\n",
      "9\n",
      "10\n",
      "11\n",
      "12\n",
      "13\n",
      "14\n",
      "15\n",
      "16\n",
      "17\n",
      "18\n",
      "19\n",
      "20\n",
      "21\n",
      "22\n",
      "23\n",
      "24\n",
      "25\n",
      "26\n",
      "27\n",
      "28\n",
      "29\n",
      "30\n",
      "31\n",
      "32\n",
      "33\n",
      "34\n",
      "35\n",
      "36\n",
      "37\n",
      "38\n",
      "39\n",
      "40\n",
      "41\n",
      "42\n",
      "43\n",
      "44\n",
      "45\n",
      "46\n",
      "47\n",
      "48\n",
      "49\n",
      "50\n",
      "51\n",
      "52\n",
      "53\n",
      "54\n",
      "55\n",
      "56\n",
      "57\n",
      "58\n",
      "59\n",
      "60\n",
      "61\n",
      "62\n",
      "63\n",
      "64\n",
      "65\n",
      "66\n",
      "67\n",
      "68\n",
      "69\n",
      "70\n",
      "71\n",
      "72\n",
      "73\n",
      "74\n",
      "75\n",
      "76\n",
      "77\n",
      "78\n",
      "79\n",
      "80\n",
      "81\n",
      "82\n",
      "83\n",
      "84\n",
      "85\n",
      "86\n",
      "87\n",
      "88\n",
      "89\n",
      "90\n",
      "91\n",
      "92\n",
      "93\n",
      "94\n",
      "95\n",
      "96\n",
      "97\n",
      "98\n",
      "99\n",
      "100\n"
     ]
    }
   ],
   "source": [
    "# Print numbers from 1 to 100 using while loop\n",
    "i = 1\n",
    "while i<=100:\n",
    "    print(i)\n",
    "    i += 1"
   ]
  },
  {
   "cell_type": "code",
   "execution_count": 5,
   "id": "4a7437dc-5804-4c82-9b83-05236e1e9d6b",
   "metadata": {},
   "outputs": [
    {
     "name": "stdout",
     "output_type": "stream",
     "text": [
      "100\n",
      "99\n",
      "98\n",
      "97\n",
      "96\n",
      "95\n",
      "94\n",
      "93\n",
      "92\n",
      "91\n",
      "90\n",
      "89\n",
      "88\n",
      "87\n",
      "86\n",
      "85\n",
      "84\n",
      "83\n",
      "82\n",
      "81\n",
      "80\n",
      "79\n",
      "78\n",
      "77\n",
      "76\n",
      "75\n",
      "74\n",
      "73\n",
      "72\n",
      "71\n",
      "70\n",
      "69\n",
      "68\n",
      "67\n",
      "66\n",
      "65\n",
      "64\n",
      "63\n",
      "62\n",
      "61\n",
      "60\n",
      "59\n",
      "58\n",
      "57\n",
      "56\n",
      "55\n",
      "54\n",
      "53\n",
      "52\n",
      "51\n",
      "50\n",
      "49\n",
      "48\n",
      "47\n",
      "46\n",
      "45\n",
      "44\n",
      "43\n",
      "42\n",
      "41\n",
      "40\n",
      "39\n",
      "38\n",
      "37\n",
      "36\n",
      "35\n",
      "34\n",
      "33\n",
      "32\n",
      "31\n",
      "30\n",
      "29\n",
      "28\n",
      "27\n",
      "26\n",
      "25\n",
      "24\n",
      "23\n",
      "22\n",
      "21\n",
      "20\n",
      "19\n",
      "18\n",
      "17\n",
      "16\n",
      "15\n",
      "14\n",
      "13\n",
      "12\n",
      "11\n",
      "10\n",
      "9\n",
      "8\n",
      "7\n",
      "6\n",
      "5\n",
      "4\n",
      "3\n",
      "2\n",
      "1\n"
     ]
    }
   ],
   "source": [
    "# Print numbers from 100 to 1 using while loop\n",
    "i = 100\n",
    "while i>=1:\n",
    "    print(i)\n",
    "    i -= 1"
   ]
  },
  {
   "cell_type": "code",
   "execution_count": 9,
   "id": "4564f71f-9909-4a97-8225-49f333606260",
   "metadata": {},
   "outputs": [
    {
     "name": "stdin",
     "output_type": "stream",
     "text": [
      "Enter any number:  1000\n"
     ]
    },
    {
     "name": "stdout",
     "output_type": "stream",
     "text": [
      "1000 * 1 =  1000\n",
      "1000 * 2 =  2000\n",
      "1000 * 3 =  3000\n",
      "1000 * 4 =  4000\n",
      "1000 * 5 =  5000\n",
      "1000 * 6 =  6000\n",
      "1000 * 7 =  7000\n",
      "1000 * 8 =  8000\n",
      "1000 * 9 =  9000\n",
      "1000 * 10 =  10000\n"
     ]
    }
   ],
   "source": [
    "# Print a multiplication table of a number n.\n",
    "n = int(input(\"Enter any number: \"))\n",
    "i = 1\n",
    "while i<=10:\n",
    "    print(\"{} * {} = \".format(n,i),n*i)\n",
    "    i += 1"
   ]
  },
  {
   "cell_type": "code",
   "execution_count": 16,
   "id": "a28f04a6-dff2-484e-ac2c-6db5f190271f",
   "metadata": {},
   "outputs": [
    {
     "name": "stdout",
     "output_type": "stream",
     "text": [
      "1\n",
      "4\n",
      "9\n",
      "16\n",
      "25\n",
      "36\n",
      "49\n",
      "64\n",
      "81\n",
      "100\n"
     ]
    }
   ],
   "source": [
    "# Print the elements of the following list using while loop \n",
    "a = [1,4,9,16,25,36,49,64,81,100]\n",
    "index = 0\n",
    "while index < len(a):\n",
    "    print(a[index])\n",
    "    index += 1"
   ]
  },
  {
   "cell_type": "code",
   "execution_count": 5,
   "id": "a2c6ad55-b61c-4f4a-b890-6d59487ff4dc",
   "metadata": {},
   "outputs": [
    {
     "name": "stdin",
     "output_type": "stream",
     "text": [
      "Enter any number you want to search in tuple:  36\n"
     ]
    },
    {
     "name": "stdout",
     "output_type": "stream",
     "text": [
      "Found at index:  5\n"
     ]
    }
   ],
   "source": [
    "# Search for a number x in given tuple\n",
    "a = (1,4,9,16,25,36,49,64,81,100)\n",
    "x = int(input(\"Enter any number you want to search in tuple: \"))\n",
    "index = 0\n",
    "found = False\n",
    "while index < len(a):\n",
    "    if (a[index]==x):\n",
    "        found = True\n",
    "        print(\"Found at index: \",index)\n",
    "    index += 1  \n",
    "if(found is False):\n",
    "    print(\"Not found\")"
   ]
  },
  {
   "cell_type": "code",
   "execution_count": 28,
   "id": "627ee91c-ac92-4a0c-95fa-1d95e40458ac",
   "metadata": {},
   "outputs": [
    {
     "name": "stdin",
     "output_type": "stream",
     "text": [
      "Enter any number:  1234\n"
     ]
    },
    {
     "name": "stdout",
     "output_type": "stream",
     "text": [
      "1\n",
      "2\n",
      "3\n",
      "4\n"
     ]
    }
   ],
   "source": [
    "# Take a number from the user and print its digits one by one.\n",
    "num = input(\"Enter any number: \")\n",
    "i = 0\n",
    "while i < len(num):\n",
    "    print (num[i])\n",
    "    i+=1"
   ]
  },
  {
   "cell_type": "code",
   "execution_count": 31,
   "id": "990e14f6-a71f-49a2-bb03-ad7ec84b582e",
   "metadata": {},
   "outputs": [
    {
     "name": "stdin",
     "output_type": "stream",
     "text": [
      "Enter number:  5\n"
     ]
    },
    {
     "name": "stdout",
     "output_type": "stream",
     "text": [
      "The factorial of 5 is 120\n"
     ]
    }
   ],
   "source": [
    "# Find factorial of given number.\n",
    "num = int(input(\"Enter number: \"))\n",
    "fact = 1\n",
    "i = 1\n",
    "while i<=num:\n",
    "    fact = fact*i\n",
    "    i+=1\n",
    "print(\"The factorial of {} is {}\".format(num,fact))"
   ]
  },
  {
   "cell_type": "code",
   "execution_count": 1,
   "id": "c1cc5996-ef13-4646-aefd-8070b44cc09d",
   "metadata": {},
   "outputs": [
    {
     "name": "stdin",
     "output_type": "stream",
     "text": [
      "Enter number:  12345\n"
     ]
    },
    {
     "name": "stdout",
     "output_type": "stream",
     "text": [
      "The sum of digits are 15\n"
     ]
    }
   ],
   "source": [
    "# Find sum of digits of a number.\n",
    "num = int(input(\"Enter number: \"))\n",
    "sum_digits = 0\n",
    "while num>0:\n",
    "    digit = num % 10 #Get the last digit\n",
    "    sum_digits = sum_digits + digit\n",
    "    num = num // 10 #remove last digit\n",
    "print(\"The sum of digits are\",sum_digits)    "
   ]
  },
  {
   "cell_type": "code",
   "execution_count": 3,
   "id": "6a23ef86-c89f-45e4-af75-a2c4b7355c02",
   "metadata": {},
   "outputs": [
    {
     "name": "stdout",
     "output_type": "stream",
     "text": [
      "🎮 Welcome to Guess the Number Game!\n",
      "I have chosen a number between 1 and 100. Can you guess it?\n"
     ]
    },
    {
     "name": "stdin",
     "output_type": "stream",
     "text": [
      "Enter number:  3\n"
     ]
    },
    {
     "name": "stdout",
     "output_type": "stream",
     "text": [
      "Too low! Try again\n"
     ]
    },
    {
     "name": "stdin",
     "output_type": "stream",
     "text": [
      "Enter number:  7\n"
     ]
    },
    {
     "name": "stdout",
     "output_type": "stream",
     "text": [
      "Too low! Try again\n"
     ]
    },
    {
     "name": "stdin",
     "output_type": "stream",
     "text": [
      "Enter number:  8\n"
     ]
    },
    {
     "name": "stdout",
     "output_type": "stream",
     "text": [
      "Too low! Try again\n"
     ]
    },
    {
     "name": "stdin",
     "output_type": "stream",
     "text": [
      "Enter number:  9\n"
     ]
    },
    {
     "name": "stdout",
     "output_type": "stream",
     "text": [
      "Correct! You guessed the number: 9\n"
     ]
    }
   ],
   "source": [
    "# Guess the number game: Computer picks a secret number, you keep guessing until correct.\n",
    "import random\n",
    "\n",
    "secret_number = random.randint(1,10)\n",
    "\n",
    "print(\"🎮 Welcome to Guess the Number Game!\")\n",
    "print(\"I have chosen a number between 1 and 100. Can you guess it?\")\n",
    "guess = None\n",
    "\n",
    "while guess != secret_number:\n",
    "    guess = int(input(\"Enter number: \"))\n",
    "    if guess < secret_number:\n",
    "        print (\"Too low! Try again\")\n",
    "    elif guess > secret_number:\n",
    "        print (\"Too High! Try again\")\n",
    "    else:\n",
    "        print(\"Correct! You guessed the number:\", secret_number)"
   ]
  },
  {
   "cell_type": "code",
   "execution_count": 4,
   "id": "9c1c5bc3-08fe-465a-91cc-f34b45ca9e9a",
   "metadata": {},
   "outputs": [
    {
     "name": "stdin",
     "output_type": "stream",
     "text": [
      "Enter number (0 to stop):   2\n",
      "Enter number (0 to stop):   3\n",
      "Enter number (0 to stop):   4\n",
      "Enter number (0 to stop):   0\n"
     ]
    },
    {
     "name": "stdout",
     "output_type": "stream",
     "text": [
      "Sum of all numbers entered is: 9\n"
     ]
    }
   ],
   "source": [
    "# Keep asking the user for numbers and stop when they enter 0. Then print the sum of all numbers entered.\n",
    "total = 0\n",
    "while True:\n",
    "    num = int(input(\"Enter number (0 to stop):  \"))\n",
    "    if num == 0:\n",
    "        break\n",
    "    total += num\n",
    "print(\"Sum of all numbers entered is:\", total)    "
   ]
  },
  {
   "cell_type": "code",
   "execution_count": 3,
   "id": "f8fd1087-9f81-4619-874b-6ba4daa08590",
   "metadata": {},
   "outputs": [
    {
     "name": "stdout",
     "output_type": "stream",
     "text": [
      "1\n",
      "4\n",
      "9\n",
      "16\n",
      "25\n",
      "36\n",
      "49\n",
      "64\n",
      "81\n",
      "100\n"
     ]
    }
   ],
   "source": [
    "# Print the element of the list using for loop.\n",
    "li = [1,4,9,16,25,36,49,64,81,100]\n",
    "for el in li:\n",
    "    print(el)"
   ]
  },
  {
   "cell_type": "code",
   "execution_count": 9,
   "id": "fdde63e0-2ef9-4102-8882-15407c3ae7f9",
   "metadata": {},
   "outputs": [
    {
     "name": "stdin",
     "output_type": "stream",
     "text": [
      "Enter any number you want to search in tuple:  36\n"
     ]
    },
    {
     "name": "stdout",
     "output_type": "stream",
     "text": [
      "Element is found at index:  5\n"
     ]
    }
   ],
   "source": [
    "# Search for a number x in given tuple using for loop\n",
    "a = (1,4,9,16,25,36,49,64,81,100)\n",
    "x = int(input(\"Enter any number you want to search in tuple: \"))\n",
    "index = 0\n",
    "found = False\n",
    "for el in a:\n",
    "    if(el == x):\n",
    "        found = True\n",
    "        print(\"Element is found at index: \",index)\n",
    "    index += 1        \n",
    "if (found is False):\n",
    "    print(\"Element is not found.\")"
   ]
  },
  {
   "cell_type": "code",
   "execution_count": 10,
   "id": "17d47b5f-bffb-4265-a68e-e5562826fbf1",
   "metadata": {},
   "outputs": [
    {
     "name": "stdin",
     "output_type": "stream",
     "text": [
      "Enter any number:  2\n"
     ]
    },
    {
     "name": "stdout",
     "output_type": "stream",
     "text": [
      "2 * 1 =  2\n",
      "2 * 2 =  4\n",
      "2 * 3 =  6\n",
      "2 * 4 =  8\n",
      "2 * 5 =  10\n",
      "2 * 6 =  12\n",
      "2 * 7 =  14\n",
      "2 * 8 =  16\n",
      "2 * 9 =  18\n",
      "2 * 10 =  20\n"
     ]
    }
   ],
   "source": [
    "# Print a multiplication table of a number n using for loop.\n",
    "n = int(input(\"Enter any number: \"))\n",
    "for i in range(1,11):\n",
    "    print(\"{} * {} = \".format(n,i),n*i)"
   ]
  },
  {
   "cell_type": "code",
   "execution_count": 13,
   "id": "c91daaa0-7c34-48c7-971c-b8abcdc176f7",
   "metadata": {},
   "outputs": [
    {
     "name": "stdin",
     "output_type": "stream",
     "text": [
      "Enter number:  5\n"
     ]
    },
    {
     "name": "stdout",
     "output_type": "stream",
     "text": [
      "Factorial of 5 is 120\n"
     ]
    }
   ],
   "source": [
    "# Find factorial of given number using for loop.\n",
    "num = int(input(\"Enter number: \"))\n",
    "fact = 1\n",
    "for i in range(1,num+1):\n",
    "    fact = fact*i\n",
    "print(\"Factorial of\",num,\"is\",fact)"
   ]
  },
  {
   "cell_type": "code",
   "execution_count": 14,
   "id": "7e6f2c38-7b1b-4527-ad19-2bef2a4201d6",
   "metadata": {},
   "outputs": [
    {
     "name": "stdout",
     "output_type": "stream",
     "text": [
      "*\n",
      "**\n",
      "***\n",
      "****\n",
      "*****\n"
     ]
    }
   ],
   "source": [
    "row = 5\n",
    "for i in range(1,row+1):\n",
    "    print(\"*\"*i)"
   ]
  },
  {
   "cell_type": "code",
   "execution_count": 15,
   "id": "71ade602-e263-4ab8-8f30-fedd70918b3f",
   "metadata": {},
   "outputs": [
    {
     "name": "stdin",
     "output_type": "stream",
     "text": [
      "Enter any string:  Hello World\n"
     ]
    },
    {
     "name": "stdout",
     "output_type": "stream",
     "text": [
      "Number of vowels in the string: 3\n"
     ]
    }
   ],
   "source": [
    "# Count how many vowels are in a string using for loop.\n",
    "text = input(\"Enter any string: \")\n",
    "vowels = \"aeiouAEIOU\"\n",
    "count = 0\n",
    "for char in text:\n",
    "    if char in vowels:\n",
    "        count += 1\n",
    "print(\"Number of vowels in the string:\", count)"
   ]
  },
  {
   "cell_type": "code",
   "execution_count": 17,
   "id": "afa17f3d-300f-4761-acec-f6fb60394a19",
   "metadata": {},
   "outputs": [
    {
     "name": "stdin",
     "output_type": "stream",
     "text": [
      "Enter first number:  2\n",
      "Enter second number:  3\n",
      "Enter third number:  4\n"
     ]
    },
    {
     "name": "stdout",
     "output_type": "stream",
     "text": [
      "3.0\n"
     ]
    }
   ],
   "source": [
    "# WAF to calculate the average of 3 numbers.\n",
    "num1 = int(input(\"Enter first number: \"))\n",
    "num2 = int(input(\"Enter second number: \"))\n",
    "num3 = int(input(\"Enter third number: \"))\n",
    "def cal_avg(a,b,c):\n",
    "    return(a+b+c)/3\n",
    "avg = cal_avg(num1,num2,num3)\n",
    "print(avg)"
   ]
  },
  {
   "cell_type": "code",
   "execution_count": 20,
   "id": "d86981af-c303-400c-b231-eb19aab3ad64",
   "metadata": {},
   "outputs": [
    {
     "name": "stdin",
     "output_type": "stream",
     "text": [
      "Enter the number:  5\n"
     ]
    },
    {
     "name": "stdout",
     "output_type": "stream",
     "text": [
      "Factorial of 5 is 120\n"
     ]
    }
   ],
   "source": [
    "# WAF to calculate factorial of n.\n",
    "n = int(input(\"Enter the number: \"))\n",
    "def cal_fact(n):\n",
    "    fact = 1\n",
    "    for i in range(1,n+1):\n",
    "        fact *= i\n",
    "    return fact\n",
    "factorial = cal_fact(n)\n",
    "print(\"Factorial of\",n,\"is\",factorial)"
   ]
  },
  {
   "cell_type": "code",
   "execution_count": 24,
   "id": "15a7e5bf-9eee-4658-a862-543d2637176f",
   "metadata": {},
   "outputs": [
    {
     "name": "stdin",
     "output_type": "stream",
     "text": [
      "Enter list elements separated by spaces: 2 3 4 5 6\n"
     ]
    },
    {
     "name": "stdout",
     "output_type": "stream",
     "text": [
      "2 3 4 5 6 "
     ]
    }
   ],
   "source": [
    "# WAF to print the element of the list in the single line.\n",
    "user_input = input(\"Enter list elements separated by spaces:\")\n",
    "# Split the input string into a list of strings\n",
    "list = user_input.split()\n",
    "def print_element_list():\n",
    "    for el in list:\n",
    "        print(el, end = \" \")\n",
    "print_element_list()        "
   ]
  },
  {
   "cell_type": "code",
   "execution_count": 26,
   "id": "33dfe959-ba21-49c1-b421-c19669f4932d",
   "metadata": {},
   "outputs": [
    {
     "name": "stdin",
     "output_type": "stream",
     "text": [
      "Enter list elements separated by spaces: 1 2 3 4 5 6 7\n"
     ]
    },
    {
     "name": "stdout",
     "output_type": "stream",
     "text": [
      "7\n"
     ]
    }
   ],
   "source": [
    "#WAF to print the length of the list\n",
    "user_input = input(\"Enter list elements separated by spaces:\")\n",
    "# Split the input string into a list of strings\n",
    "list = user_input.split()\n",
    "print(len(list))"
   ]
  },
  {
   "cell_type": "code",
   "execution_count": 28,
   "id": "a6891ffb-97a5-4962-bfc5-0ebd9e120126",
   "metadata": {},
   "outputs": [
    {
     "name": "stdout",
     "output_type": "stream",
     "text": [
      "100 USD = 8702.0 INR\n"
     ]
    }
   ],
   "source": [
    "# WAF to convert usd to inr\n",
    "def converter(usd_val):\n",
    "    inr_val = usd_val*87.02\n",
    "    print(usd_val,\"USD =\",inr_val,\"INR\")\n",
    "converter(100)    "
   ]
  },
  {
   "cell_type": "code",
   "execution_count": 31,
   "id": "5e72627a-a9a5-4117-9b9a-906881311691",
   "metadata": {},
   "outputs": [
    {
     "name": "stdin",
     "output_type": "stream",
     "text": [
      "Enter the number you want to check: 1\n"
     ]
    },
    {
     "name": "stdout",
     "output_type": "stream",
     "text": [
      "Odd Number\n"
     ]
    }
   ],
   "source": [
    "def checker(n):\n",
    "    if n%2 == 0:\n",
    "        print(\"Even Number\")\n",
    "    else:\n",
    "        print(\"Odd Number\")\n",
    "checker(int(input(\"Enter the number you want to check:\")))       "
   ]
  },
  {
   "cell_type": "code",
   "execution_count": 32,
   "id": "2a77b2f6-288c-46e3-b0e9-0cb464ed64c9",
   "metadata": {},
   "outputs": [
    {
     "name": "stdout",
     "output_type": "stream",
     "text": [
      "5\n",
      "4\n",
      "3\n",
      "2\n",
      "1\n"
     ]
    }
   ],
   "source": [
    "# Recursive function\n",
    "def show(n):\n",
    "    if n==0:\n",
    "        return\n",
    "    print(n)\n",
    "    show(n-1)\n",
    "show(5)    "
   ]
  },
  {
   "cell_type": "code",
   "execution_count": 33,
   "id": "534df6d6-17b8-49c8-89e1-fcac318cbdba",
   "metadata": {},
   "outputs": [
    {
     "name": "stdout",
     "output_type": "stream",
     "text": [
      "120\n"
     ]
    }
   ],
   "source": [
    "# Factorial with recursion\n",
    "def fact(n):\n",
    "    if n==1 or n==0:\n",
    "        return 1\n",
    "    else:\n",
    "        return n*fact(n-1)\n",
    "print(fact(5))        "
   ]
  },
  {
   "cell_type": "code",
   "execution_count": 38,
   "id": "3cd8c56a-f261-42ee-97e5-dfa3a80a233f",
   "metadata": {},
   "outputs": [
    {
     "name": "stdout",
     "output_type": "stream",
     "text": [
      "3\n"
     ]
    }
   ],
   "source": [
    "# Write a recusive function to calculate the sum of first n natural number.\n",
    "def cal_sum(n):\n",
    "    if n==0:\n",
    "        return 0\n",
    "    return cal_sum(n-1)+n\n",
    "sum = cal_sum(2)\n",
    "print(sum)    "
   ]
  },
  {
   "cell_type": "code",
   "execution_count": 40,
   "id": "b570bd0c-fddc-4472-9f9b-b2a1580891e2",
   "metadata": {},
   "outputs": [
    {
     "name": "stdout",
     "output_type": "stream",
     "text": [
      "Apple\n",
      "Banana\n",
      "Mango\n"
     ]
    }
   ],
   "source": [
    "# Write a recursive function to print all elements in a list.\n",
    "def print_list(list,indx=0):\n",
    "    if indx == len(list):\n",
    "        return\n",
    "    print(list[indx])\n",
    "    print_list(list,indx+1)\n",
    "fruits = [\"Apple\",\"Banana\",\"Mango\"]\n",
    "print_list(fruits)"
   ]
  }
 ],
 "metadata": {
  "kernelspec": {
   "display_name": "Python [conda env:base] *",
   "language": "python",
   "name": "conda-base-py"
  },
  "language_info": {
   "codemirror_mode": {
    "name": "ipython",
    "version": 3
   },
   "file_extension": ".py",
   "mimetype": "text/x-python",
   "name": "python",
   "nbconvert_exporter": "python",
   "pygments_lexer": "ipython3",
   "version": "3.13.5"
  }
 },
 "nbformat": 4,
 "nbformat_minor": 5
}
