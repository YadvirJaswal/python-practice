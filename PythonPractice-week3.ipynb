{
 "cells": [
  {
   "cell_type": "code",
   "execution_count": 8,
   "id": "6cd9a9e3-18b2-423f-a17f-fcbb6a42004e",
   "metadata": {},
   "outputs": [
    {
     "name": "stdin",
     "output_type": "stream",
     "text": [
      "Enter first movie:  shutter island\n",
      "Enter second movie:  lucy\n",
      "Enter third movie:  primer\n"
     ]
    },
    {
     "name": "stdout",
     "output_type": "stream",
     "text": [
      "['shutter island', 'lucy', 'primer']\n"
     ]
    }
   ],
   "source": [
    "# WAP to ask the user to enter names of their 3 favorite movies & store them in a list.\n",
    "movies = []\n",
    "movies.append(input(\"Enter first movie: \"))\n",
    "movies.append(input(\"Enter second movie: \"))\n",
    "movies.append(input(\"Enter third movie: \"))\n",
    "print(movies)"
   ]
  },
  {
   "cell_type": "code",
   "execution_count": 17,
   "id": "f20d784a-17d7-4cd6-94bc-f97dcde10500",
   "metadata": {},
   "outputs": [
    {
     "name": "stdin",
     "output_type": "stream",
     "text": [
      "Enter the elements in list separated by spaces:  1 2 2 1\n"
     ]
    },
    {
     "name": "stdout",
     "output_type": "stream",
     "text": [
      "list contains a palindrome of elements.\n"
     ]
    }
   ],
   "source": [
    "# WAP to check if a list contains a palindrome of elements.\n",
    "user_input = input(\"Enter the elements in list separated by spaces: \")\n",
    "li = user_input.split()\n",
    "copy_li = li.copy()\n",
    "copy_li.reverse()\n",
    "if (li == copy_li):\n",
    "    print(\"list contains a palindrome of elements.\")\n",
    "else:\n",
    "    print(\"list does not contains a palindrome of elements.\")"
   ]
  },
  {
   "cell_type": "code",
   "execution_count": 20,
   "id": "9361deb8-e410-42a0-952e-186eef362c99",
   "metadata": {},
   "outputs": [
    {
     "name": "stdout",
     "output_type": "stream",
     "text": [
      "3\n"
     ]
    }
   ],
   "source": [
    "# WAP to count the number of students with the “A” grade in the following tuple.\n",
    "grades = (\"C\",\"D\",\"A\",\"A\",\"B\",\"B\",\"A\")\n",
    "print(grades.count(\"A\"))"
   ]
  },
  {
   "cell_type": "code",
   "execution_count": 21,
   "id": "e7bb0a3e-e2a6-4b4b-bb3b-c149437c3612",
   "metadata": {},
   "outputs": [
    {
     "name": "stdout",
     "output_type": "stream",
     "text": [
      "['A', 'A', 'A', 'B', 'B', 'C', 'D']\n"
     ]
    }
   ],
   "source": [
    "# Store the above values in a list & sort them from “A” to “D”\n",
    "li = [\"C\",\"D\",\"A\",\"A\",\"B\",\"B\",\"A\"]\n",
    "li.sort()\n",
    "print(li)"
   ]
  },
  {
   "cell_type": "code",
   "execution_count": 28,
   "id": "3361e42a-b418-437b-a13e-267229c340e5",
   "metadata": {},
   "outputs": [
    {
     "name": "stdout",
     "output_type": "stream",
     "text": [
      "{'table': ['a piece of furniture', 'list of facts & figures'], 'cat': 'a small animal'}\n"
     ]
    }
   ],
   "source": [
    "# Store following word meanings in a python dictionary :table : “a piece of furniture”,“list of facts & figures” and cat : “a small animal”\n",
    "word_meanings = {\n",
    "    \"table\": [\"a piece of furniture\",\"list of facts & figures\"],\n",
    "    \"cat\": \"a small animal\"\n",
    "}\n",
    "print(word_meanings)"
   ]
  },
  {
   "cell_type": "code",
   "execution_count": 31,
   "id": "f5c9426d-1c45-433e-839e-b3ef8647be1d",
   "metadata": {},
   "outputs": [
    {
     "name": "stdin",
     "output_type": "stream",
     "text": [
      "Enter the marks of the maths:  56\n",
      "Enter the marks of the maths:  67\n",
      "Enter the marks of the maths:  78\n"
     ]
    },
    {
     "name": "stdout",
     "output_type": "stream",
     "text": [
      "{'Maths': '56', 'Science': '67', 'English': '78'}\n"
     ]
    }
   ],
   "source": [
    "# WAP to enter marks of 3 subjects from the user and store them in a dictionary. Start with an empty dictionary & add one by one. Use subject name as key & marks as value.\n",
    "dict = {}\n",
    "maths = input(\"Enter the marks of the maths: \")\n",
    "science = input(\"Enter the marks of the maths: \")\n",
    "english = input(\"Enter the marks of the maths: \")\n",
    "dict.update({\"Maths\":maths,\"Science\":science,\"English\":english})\n",
    "print(dict)"
   ]
  },
  {
   "cell_type": "code",
   "execution_count": 39,
   "id": "923b7221-8987-408b-8310-bee8707c8405",
   "metadata": {},
   "outputs": [
    {
     "name": "stdout",
     "output_type": "stream",
     "text": [
      "{9, '9.0'}\n",
      "{('float', 9.0), ('int', 9)}\n"
     ]
    }
   ],
   "source": [
    "# Figure out a way to store 9 & 9.0 as separate values in the set\n",
    "nums = {9,\"9.0\"}\n",
    "print(nums)\n",
    "values = {(\"int\",9),(\"float\",9.0)}\n",
    "print(values)"
   ]
  },
  {
   "cell_type": "code",
   "execution_count": 37,
   "id": "c958edc6-3ead-4c07-980c-cc1e3d87dd46",
   "metadata": {},
   "outputs": [
    {
     "name": "stdout",
     "output_type": "stream",
     "text": [
      "Classrooms needed by all students are: 5\n"
     ]
    }
   ],
   "source": [
    "# You are given a list of subjects for students. Assume one classroom is required for 1subject. How many classrooms are needed by all students.\n",
    "subjects = {\"python\",\"java\",\"c++\",\"python\",\"javascript\",\"java\",\"python\",\"java\",\"c++\",\"c\"}\n",
    "print(\"Classrooms needed by all students are:\",len(subjects))"
   ]
  },
  {
   "cell_type": "code",
   "execution_count": 1,
   "id": "7871755b-97e2-4aff-bd93-a7b3a8274bf1",
   "metadata": {},
   "outputs": [
    {
     "name": "stdout",
     "output_type": "stream",
     "text": [
      "Welcome to the shopping cart system !\n",
      "___________________________ \n",
      "\n",
      "Menu: \n",
      "\n",
      "1. Add Item \n",
      "2. Remove Item \n",
      "3. View Cart \n",
      "4. Checkout \n",
      "\n"
     ]
    },
    {
     "name": "stdin",
     "output_type": "stream",
     "text": [
      "Enter your choice:  1\n"
     ]
    },
    {
     "name": "stdout",
     "output_type": "stream",
     "text": [
      "Available Products: \n",
      "\n",
      "1. Apple - $2 \n",
      "2. Banana - $1 \n",
      "3. Milk - $3 \n",
      "4. Bread - $2.5 \n",
      "\n",
      "\n"
     ]
    },
    {
     "name": "stdin",
     "output_type": "stream",
     "text": [
      "Enter product name to add:  apple\n",
      "Enter quantity:  3\n"
     ]
    },
    {
     "data": {
      "text/html": [
       "<span style='color:green; font-weight:bold'>3 Apple added to the cart! (Total Apple:3)\n",
       "</span>"
      ],
      "text/plain": [
       "<IPython.core.display.HTML object>"
      ]
     },
     "metadata": {},
     "output_type": "display_data"
    },
    {
     "name": "stdout",
     "output_type": "stream",
     "text": [
      "Menu: \n",
      "\n",
      "1. Add Item \n",
      "2. Remove Item \n",
      "3. View Cart \n",
      "4. Checkout \n",
      "\n"
     ]
    },
    {
     "name": "stdin",
     "output_type": "stream",
     "text": [
      "Enter your choice:  1\n"
     ]
    },
    {
     "name": "stdout",
     "output_type": "stream",
     "text": [
      "Available Products: \n",
      "\n",
      "1. Apple - $2 \n",
      "2. Banana - $1 \n",
      "3. Milk - $3 \n",
      "4. Bread - $2.5 \n",
      "\n",
      "\n"
     ]
    },
    {
     "name": "stdin",
     "output_type": "stream",
     "text": [
      "Enter product name to add:  milk\n",
      "Enter quantity:  3\n"
     ]
    },
    {
     "data": {
      "text/html": [
       "<span style='color:green; font-weight:bold'>3 Milk added to the cart! (Total Milk:3)\n",
       "</span>"
      ],
      "text/plain": [
       "<IPython.core.display.HTML object>"
      ]
     },
     "metadata": {},
     "output_type": "display_data"
    },
    {
     "name": "stdout",
     "output_type": "stream",
     "text": [
      "Menu: \n",
      "\n",
      "1. Add Item \n",
      "2. Remove Item \n",
      "3. View Cart \n",
      "4. Checkout \n",
      "\n"
     ]
    },
    {
     "name": "stdin",
     "output_type": "stream",
     "text": [
      "Enter your choice:  3\n"
     ]
    },
    {
     "name": "stdout",
     "output_type": "stream",
     "text": [
      "Your Cart:\n",
      "Apple * 3 ($ 6 )\n",
      "Milk * 3 ($ 9 )\n"
     ]
    },
    {
     "data": {
      "text/html": [
       "<span style='color:magenta; font-weight:bold'>Total cart value: $ 15</span>"
      ],
      "text/plain": [
       "<IPython.core.display.HTML object>"
      ]
     },
     "metadata": {},
     "output_type": "display_data"
    },
    {
     "name": "stdout",
     "output_type": "stream",
     "text": [
      "Menu: \n",
      "\n",
      "1. Add Item \n",
      "2. Remove Item \n",
      "3. View Cart \n",
      "4. Checkout \n",
      "\n"
     ]
    },
    {
     "name": "stdin",
     "output_type": "stream",
     "text": [
      "Enter your choice:  2\n"
     ]
    },
    {
     "name": "stdout",
     "output_type": "stream",
     "text": [
      "Apple * 3 ($ 6 )\n",
      "Milk * 3 ($ 9 )\n"
     ]
    },
    {
     "name": "stdin",
     "output_type": "stream",
     "text": [
      "Enter item you want to remove from the cart:  apple\n"
     ]
    },
    {
     "data": {
      "text/html": [
       "<span style='color:green; font-weight:bold'>Apple is removed from the cart!</span>"
      ],
      "text/plain": [
       "<IPython.core.display.HTML object>"
      ]
     },
     "metadata": {},
     "output_type": "display_data"
    },
    {
     "name": "stdout",
     "output_type": "stream",
     "text": [
      "Menu: \n",
      "\n",
      "1. Add Item \n",
      "2. Remove Item \n",
      "3. View Cart \n",
      "4. Checkout \n",
      "\n"
     ]
    },
    {
     "name": "stdin",
     "output_type": "stream",
     "text": [
      "Enter your choice:  3\n"
     ]
    },
    {
     "name": "stdout",
     "output_type": "stream",
     "text": [
      "Your Cart:\n",
      "Milk * 3 ($ 9 )\n"
     ]
    },
    {
     "data": {
      "text/html": [
       "<span style='color:magenta; font-weight:bold'>Total cart value: $ 9</span>"
      ],
      "text/plain": [
       "<IPython.core.display.HTML object>"
      ]
     },
     "metadata": {},
     "output_type": "display_data"
    },
    {
     "name": "stdout",
     "output_type": "stream",
     "text": [
      "Menu: \n",
      "\n",
      "1. Add Item \n",
      "2. Remove Item \n",
      "3. View Cart \n",
      "4. Checkout \n",
      "\n"
     ]
    },
    {
     "name": "stdin",
     "output_type": "stream",
     "text": [
      "Enter your choice:  4\n"
     ]
    },
    {
     "name": "stdout",
     "output_type": "stream",
     "text": [
      "Milk * 3 ($ 9 )\n"
     ]
    },
    {
     "data": {
      "text/html": [
       "<span style='color:green; font-weight:bold'>Thanks for shopping!</span>"
      ],
      "text/plain": [
       "<IPython.core.display.HTML object>"
      ]
     },
     "metadata": {},
     "output_type": "display_data"
    }
   ],
   "source": [
    "# Shopping cart project\n",
    "from IPython.display import HTML, display\n",
    "def cprint(text, color=\"black\"):\n",
    "    display(HTML(f\"<span style='color:{color}; font-weight:bold'>{text}</span>\"))\n",
    "products = {\n",
    "    \"Apple\" : 2,\n",
    "    \"Banana\" : 1,\n",
    "    \"Milk\": 3,\n",
    "    \"Bread\": 2.5\n",
    "}\n",
    "cart = [] # empty cart\n",
    "\n",
    "def add_cart(product_name,product_quantity):\n",
    "    if product_name in products:\n",
    "        price = products[product_name]\n",
    "        found = False\n",
    "        for product in cart:\n",
    "            if product[\"name\"] == product_name :\n",
    "                product[\"quantity\"] += product_quantity\n",
    "                product[\"price\"] = product[\"quantity\"] * price\n",
    "                found = True\n",
    "                cprint(f\"{product_quantity} {product_name} added to the cart! (Total {product_name} : {product[\"quantity\"]})\\n\",\"green\")\n",
    "                break\n",
    "        if not found:\n",
    "            product_price = product_quantity * price\n",
    "            cart.append({\"name\":product_name,\"quantity\":product_quantity,\"price\":product_price})\n",
    "            cprint(f\"{product_quantity} {product_name} added to the cart! (Total {product_name}:{product_quantity})\\n\",\"green\")\n",
    "    else:\n",
    "        cprint(\"Product not found \\n\",\"red\")\n",
    "def cart_items():\n",
    "    for item in cart:\n",
    "        print(item[\"name\"],\"*\",item[\"quantity\"],\"($\",item[\"price\"],\")\")\n",
    "def remove_item():\n",
    "    cart_items()\n",
    "    remove_item = input(\"Enter item you want to remove from the cart: \").title()\n",
    "    found = False\n",
    "    for product in cart:\n",
    "        if product[\"name\"] == remove_item:\n",
    "            cart.remove(product)\n",
    "            found = True\n",
    "            cprint(f\"{remove_item} is removed from the cart!\",\"green\")\n",
    "            break\n",
    "    if not found:\n",
    "        cprint(f\"{remove_item} not found in the cart.\",\"red\")\n",
    "def view_cart():\n",
    "    cart_items()\n",
    "    total = 0\n",
    "    for product in cart:\n",
    "        total += product[\"price\"]\n",
    "    cprint(f\"Total cart value: $ {total}\",\"magenta\")    \n",
    "    \n",
    "print(\"Welcome to the shopping cart system !\")\n",
    "print(\"___________________________ \\n\")\n",
    "while True:\n",
    "    print(\"Menu: \\n\\n\"\\\n",
    "         \"1. Add Item \\n\"\\\n",
    "         \"2. Remove Item \\n\"\\\n",
    "         \"3. View Cart \\n\"\\\n",
    "         \"4. Checkout \\n\")\n",
    "    operation = int(input(\"Enter your choice: \"))\n",
    "    if operation == 1:\n",
    "        print(\"Available Products: \\n\\n\"\\\n",
    "             \"1. Apple - $2 \\n\"\\\n",
    "             \"2. Banana - $1 \\n\"\\\n",
    "             \"3. Milk - $3 \\n\"\\\n",
    "             \"4. Bread - $2.5 \\n\\n\")\n",
    "        product_name = input(\"Enter product name to add: \").title()\n",
    "        product_quantity = int(input(\"Enter quantity: \"))\n",
    "        add_cart(product_name,product_quantity)\n",
    "    elif operation == 2:\n",
    "        remove_item()\n",
    "    elif operation == 3:\n",
    "        print(\"Your Cart:\")\n",
    "        view_cart()\n",
    "    elif operation == 4:\n",
    "        cart_items()\n",
    "        cprint(\"Thanks for shopping!\",\"green\")\n",
    "        break\n",
    "    else:\n",
    "        print(\"Invalid option! Please try again\")"
   ]
  },
  {
   "cell_type": "code",
   "execution_count": null,
   "id": "09384f80-969f-4805-b3ac-4b0d7afbb7ef",
   "metadata": {},
   "outputs": [],
   "source": []
  }
 ],
 "metadata": {
  "kernelspec": {
   "display_name": "Python [conda env:base] *",
   "language": "python",
   "name": "conda-base-py"
  },
  "language_info": {
   "codemirror_mode": {
    "name": "ipython",
    "version": 3
   },
   "file_extension": ".py",
   "mimetype": "text/x-python",
   "name": "python",
   "nbconvert_exporter": "python",
   "pygments_lexer": "ipython3",
   "version": "3.13.5"
  }
 },
 "nbformat": 4,
 "nbformat_minor": 5
}
